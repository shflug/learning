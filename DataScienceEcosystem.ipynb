{
 "cells": [
  {
   "cell_type": "markdown",
   "id": "8556c9e7-3c11-47cb-a087-4ce072fc4cbf",
   "metadata": {},
   "source": [
    "In this notebook, Data Science Tools and Ecosystem are summarized."
   ]
  },
  {
   "cell_type": "markdown",
   "id": "2af36fab-5e2e-44c8-bfef-4f85f4b3023e",
   "metadata": {},
   "source": [
    "## Author\n",
    "Susanne Flug"
   ]
  },
  {
   "cell_type": "markdown",
   "id": "e4809c98-3f01-47da-ad87-984022ab1bd8",
   "metadata": {},
   "source": [
    "# Data Science Tools and Ecosystem"
   ]
  },
  {
   "cell_type": "code",
   "execution_count": null,
   "id": "6ebb4eae-faed-413b-bd03-46ab7a5ae186",
   "metadata": {},
   "outputs": [],
   "source": [
    "**Objectives:**\n",
    "\n",
    "- List popular languages for Data Science.\n",
    "- Understand commonly used Data Science tools.\n",
    "- Learn key libraries for data manipulation and visualization.\n",
    "- Explore examples of arithmetic expressions in Python.\n",
    "- Practice creating and running Markdown and code cells.\n"
   ]
  },
  {
   "cell_type": "markdown",
   "id": "033f35b7-cd88-47d4-9a70-00e3afa2dda0",
   "metadata": {},
   "source": [
    "Some of the popular languages that Data Scientists use are:\n",
    "1. Python\n",
    "2. R\n",
    "3. Julia\n",
    "4. Scala\n"
   ]
  },
  {
   "cell_type": "markdown",
   "id": "89df25dc-a605-4101-9d06-f2ee5c2d3318",
   "metadata": {},
   "source": [
    "Some of the commonly used libraries used by Data Scientists include:\n",
    "\n",
    "- pandas\n",
    "- NumPy\n",
    "- Matplotlib\n",
    "- Plotly\n",
    "- ggplot2"
   ]
  },
  {
   "cell_type": "markdown",
   "id": "4a1681ea-2ea4-42ac-8c93-574fe569894e",
   "metadata": {},
   "source": [
    "| Data Science Tools |\n",
    "| ------------------ |\n",
    "| Juypter Notebook |\n",
    "| RStudio |\n",
    "| JupiterLite |"
   ]
  },
  {
   "cell_type": "markdown",
   "id": "c94cf58c-97f0-4229-b9a8-159c48d67c9c",
   "metadata": {},
   "source": [
    "### Below are a few examples of evaluating arithmetic expressions in Python.\n"
   ]
  },
  {
   "cell_type": "code",
   "execution_count": 22,
   "id": "b1c18b24-6f65-4b47-917b-922791de06dc",
   "metadata": {},
   "outputs": [
    {
     "data": {
      "text/plain": [
       "17"
      ]
     },
     "execution_count": 22,
     "metadata": {},
     "output_type": "execute_result"
    }
   ],
   "source": [
    "#This a simple arithmetic expression to mutiply then add integers.\n",
    "(3*4)+5"
   ]
  },
  {
   "cell_type": "code",
   "execution_count": 24,
   "id": "23030363-09d7-4dcc-8784-836b53404901",
   "metadata": {},
   "outputs": [
    {
     "data": {
      "text/plain": [
       "3.3333333333333335"
      ]
     },
     "execution_count": 24,
     "metadata": {},
     "output_type": "execute_result"
    }
   ],
   "source": [
    "#This will convert 200 minutes to hours by diving by 60.\n",
    "200/60"
   ]
  },
  {
   "cell_type": "code",
   "execution_count": null,
   "id": "952c43a5-735f-4bd0-a3f1-6ee4eab04d1e",
   "metadata": {},
   "outputs": [],
   "source": []
  }
 ],
 "metadata": {
  "kernelspec": {
   "display_name": "Python 3 (ipykernel)",
   "language": "python",
   "name": "python3"
  },
  "language_info": {
   "codemirror_mode": {
    "name": "ipython",
    "version": 3
   },
   "file_extension": ".py",
   "mimetype": "text/x-python",
   "name": "python",
   "nbconvert_exporter": "python",
   "pygments_lexer": "ipython3",
   "version": "3.12.7"
  }
 },
 "nbformat": 4,
 "nbformat_minor": 5
}
